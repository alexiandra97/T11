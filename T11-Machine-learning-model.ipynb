{
 "cells": [
  {
   "cell_type": "markdown",
   "id": "e13e9d8d",
   "metadata": {},
   "source": [
    "# T11 Machine learning model\n",
    "\n",
    "## 1. Problem definition\n",
    "        \n",
    "        We have to predict what percentage of users will return to the game tomorrow. This KPI is officially known as Retention Day 1. I think we should use regression model.\n",
    "    \n",
    "## 2. Data\n",
    "        \n",
    "        We've gotten time series data from 02.06.2022. to 15.09.2022. But for data from 31.08.2022 t0 15.09.2022. we have to predict tagret variable (returned).\n",
    "## 3. Evaluation\n",
    "        \n",
    "        Our result have to be evaluated by RMSE (Root Mean Squared Error on Prediction) for the period after 2022-08-31. So we'll definitely use regression model. We're going to make validation set to check our model\n",
    "        \n",
    "## 4. Features\n",
    "        registration_type:\n",
    "                            1 = Fresh Registration \n",
    "                            2 = Inactive ReRegistration\n",
    "                            3 = Active ReRegistration\n",
    "       \n",
    "       played_t11_before:\n",
    "                           0 = data not provided\n",
    "                           1 = user says he played T11 before\n",
    "                           2 = user says he didn't play T11 before\n",
    "     \n",
    "     registration_channel: Label that marks if the new user was targeted by any T11 marketing campaigns, before installing the game.\n",
    "                           0 = data not provided\n",
    "                           1 = Organic\n",
    "                           2 = Paid             CHECK\n",
    "                           \n",
    "      network_type:\n",
    "                    0 = data not provided\n",
    "                    1 = WIFI\n",
    "                    2 = LTE (4G)\n",
    "                    3 = HSPAP (3G)               CHECK\n",
    "                    \n",
    "      device_tier: Our internal label for the quality of the device used for playing the game\n",
    "                    0 = data not provided\n",
    "                    1 = LowestEnd\n",
    "                    2 = LowEnd\n",
    "                    3 = MidEnd\n",
    "                    4 = HighEnd\n",
    "      device_type:\n",
    "                     1 = Phone\n",
    "                     2 = Tablet\n",
    "                     \n",
    "      device_manufacturer:\n",
    "                        0 = Other + data not provided\n",
    "                        1 = Samsung\n",
    "                        2 = Xiaomi\n",
    "                        3 = OPPO\n",
    "                        4 = Huawei\n",
    "                        5 = Motorola\n",
    "                        6 = Vivo\n",
    "                        7 = Realme\n",
    "                        8 = INFINIX MOBILITY LIMITED\n",
    "                        9 = LGE\n",
    "                        10 = TECNO MOBILE LIMITED\n",
    "                        11 = Lenovo\n",
    "                        12 = OnePlus\n",
    "                        13 = TCL\n",
    "\n",
    "        screen_dpi\n",
    "        device_memory_size_mb\n",
    "        device_model\n",
    "        os_version\n",
    "        registrations\n",
    "\n",
    "\n",
    "## 5. Model\n",
    "        SO we're going to use regression model, but I am not sure which one. \n",
    "        \n",
    "## 6. Experiments\n",
    "        \n",
    "        We're trying couple model and chose one with best RMSE."
   ]
  },
  {
   "cell_type": "code",
   "execution_count": 1,
   "id": "10090acf",
   "metadata": {},
   "outputs": [],
   "source": [
    "import pandas as pd\n",
    "import numpy as np\n",
    "import matplotlib.pyplot as plt\n",
    "import sklearn\n",
    "%matplotlib inline"
   ]
  },
  {
   "cell_type": "code",
   "execution_count": 2,
   "id": "0ecb9323",
   "metadata": {},
   "outputs": [],
   "source": [
    "df = pd.read_csv(\"2. job_fair_retention_prediction_2022_training.csv\")"
   ]
  },
  {
   "cell_type": "code",
   "execution_count": 3,
   "id": "5383edec",
   "metadata": {},
   "outputs": [
    {
     "name": "stdout",
     "output_type": "stream",
     "text": [
      "<class 'pandas.core.frame.DataFrame'>\n",
      "RangeIndex: 342332 entries, 0 to 342331\n",
      "Data columns (total 14 columns):\n",
      " #   Column                 Non-Null Count   Dtype  \n",
      "---  ------                 --------------   -----  \n",
      " 0   date                   342332 non-null  object \n",
      " 1   registration_type      342332 non-null  int64  \n",
      " 2   played_t11_before      342332 non-null  int64  \n",
      " 3   registration_channel   342332 non-null  int64  \n",
      " 4   network_type           342332 non-null  int64  \n",
      " 5   device_tier            342332 non-null  int64  \n",
      " 6   device_type            342332 non-null  int64  \n",
      " 7   device_manufacturer    342332 non-null  int64  \n",
      " 8   screen_dpi             340442 non-null  float64\n",
      " 9   device_memory_size_mb  340442 non-null  float64\n",
      " 10  device_model           340442 non-null  object \n",
      " 11  os_version             340442 non-null  object \n",
      " 12  registrations          342332 non-null  int64  \n",
      " 13  returned               342332 non-null  int64  \n",
      "dtypes: float64(2), int64(9), object(3)\n",
      "memory usage: 36.6+ MB\n"
     ]
    }
   ],
   "source": [
    "df.info()"
   ]
  },
  {
   "cell_type": "code",
   "execution_count": 4,
   "id": "afadffb0",
   "metadata": {},
   "outputs": [
    {
     "data": {
      "text/plain": [
       "date                        0\n",
       "registration_type           0\n",
       "played_t11_before           0\n",
       "registration_channel        0\n",
       "network_type                0\n",
       "device_tier                 0\n",
       "device_type                 0\n",
       "device_manufacturer         0\n",
       "screen_dpi               1890\n",
       "device_memory_size_mb    1890\n",
       "device_model             1890\n",
       "os_version               1890\n",
       "registrations               0\n",
       "returned                    0\n",
       "dtype: int64"
      ]
     },
     "execution_count": 4,
     "metadata": {},
     "output_type": "execute_result"
    }
   ],
   "source": [
    "df.isnull().sum()"
   ]
  },
  {
   "cell_type": "code",
   "execution_count": 5,
   "id": "5af7db7e",
   "metadata": {},
   "outputs": [
    {
     "data": {
      "text/html": [
       "<div>\n",
       "<style scoped>\n",
       "    .dataframe tbody tr th:only-of-type {\n",
       "        vertical-align: middle;\n",
       "    }\n",
       "\n",
       "    .dataframe tbody tr th {\n",
       "        vertical-align: top;\n",
       "    }\n",
       "\n",
       "    .dataframe thead th {\n",
       "        text-align: right;\n",
       "    }\n",
       "</style>\n",
       "<table border=\"1\" class=\"dataframe\">\n",
       "  <thead>\n",
       "    <tr style=\"text-align: right;\">\n",
       "      <th></th>\n",
       "      <th>registration_type</th>\n",
       "      <th>played_t11_before</th>\n",
       "      <th>registration_channel</th>\n",
       "      <th>network_type</th>\n",
       "      <th>device_tier</th>\n",
       "      <th>device_type</th>\n",
       "      <th>device_manufacturer</th>\n",
       "      <th>screen_dpi</th>\n",
       "      <th>device_memory_size_mb</th>\n",
       "      <th>registrations</th>\n",
       "      <th>returned</th>\n",
       "    </tr>\n",
       "  </thead>\n",
       "  <tbody>\n",
       "    <tr>\n",
       "      <th>count</th>\n",
       "      <td>342332.000000</td>\n",
       "      <td>342332.000000</td>\n",
       "      <td>342332.000000</td>\n",
       "      <td>342332.000000</td>\n",
       "      <td>342332.000000</td>\n",
       "      <td>342332.000000</td>\n",
       "      <td>342332.000000</td>\n",
       "      <td>340442.000000</td>\n",
       "      <td>340442.000000</td>\n",
       "      <td>342332.000000</td>\n",
       "      <td>342332.000000</td>\n",
       "    </tr>\n",
       "    <tr>\n",
       "      <th>mean</th>\n",
       "      <td>1.577337</td>\n",
       "      <td>1.028610</td>\n",
       "      <td>1.538071</td>\n",
       "      <td>1.272867</td>\n",
       "      <td>2.927082</td>\n",
       "      <td>1.105301</td>\n",
       "      <td>2.326283</td>\n",
       "      <td>359.056964</td>\n",
       "      <td>3996.317517</td>\n",
       "      <td>1.567829</td>\n",
       "      <td>0.406874</td>\n",
       "    </tr>\n",
       "    <tr>\n",
       "      <th>std</th>\n",
       "      <td>0.804206</td>\n",
       "      <td>0.892683</td>\n",
       "      <td>0.566776</td>\n",
       "      <td>0.573181</td>\n",
       "      <td>1.028048</td>\n",
       "      <td>0.306942</td>\n",
       "      <td>2.551360</td>\n",
       "      <td>88.342857</td>\n",
       "      <td>1896.398925</td>\n",
       "      <td>1.651584</td>\n",
       "      <td>0.716612</td>\n",
       "    </tr>\n",
       "    <tr>\n",
       "      <th>min</th>\n",
       "      <td>1.000000</td>\n",
       "      <td>0.000000</td>\n",
       "      <td>0.000000</td>\n",
       "      <td>0.000000</td>\n",
       "      <td>0.000000</td>\n",
       "      <td>1.000000</td>\n",
       "      <td>0.000000</td>\n",
       "      <td>80.000000</td>\n",
       "      <td>452.000000</td>\n",
       "      <td>1.000000</td>\n",
       "      <td>0.000000</td>\n",
       "    </tr>\n",
       "    <tr>\n",
       "      <th>25%</th>\n",
       "      <td>1.000000</td>\n",
       "      <td>0.000000</td>\n",
       "      <td>1.000000</td>\n",
       "      <td>1.000000</td>\n",
       "      <td>2.000000</td>\n",
       "      <td>1.000000</td>\n",
       "      <td>1.000000</td>\n",
       "      <td>315.000000</td>\n",
       "      <td>2789.000000</td>\n",
       "      <td>1.000000</td>\n",
       "      <td>0.000000</td>\n",
       "    </tr>\n",
       "    <tr>\n",
       "      <th>50%</th>\n",
       "      <td>1.000000</td>\n",
       "      <td>1.000000</td>\n",
       "      <td>2.000000</td>\n",
       "      <td>1.000000</td>\n",
       "      <td>3.000000</td>\n",
       "      <td>1.000000</td>\n",
       "      <td>2.000000</td>\n",
       "      <td>320.000000</td>\n",
       "      <td>3680.000000</td>\n",
       "      <td>1.000000</td>\n",
       "      <td>0.000000</td>\n",
       "    </tr>\n",
       "    <tr>\n",
       "      <th>75%</th>\n",
       "      <td>2.000000</td>\n",
       "      <td>2.000000</td>\n",
       "      <td>2.000000</td>\n",
       "      <td>2.000000</td>\n",
       "      <td>4.000000</td>\n",
       "      <td>1.000000</td>\n",
       "      <td>3.000000</td>\n",
       "      <td>440.000000</td>\n",
       "      <td>5572.000000</td>\n",
       "      <td>1.000000</td>\n",
       "      <td>1.000000</td>\n",
       "    </tr>\n",
       "    <tr>\n",
       "      <th>max</th>\n",
       "      <td>3.000000</td>\n",
       "      <td>2.000000</td>\n",
       "      <td>2.000000</td>\n",
       "      <td>3.000000</td>\n",
       "      <td>4.000000</td>\n",
       "      <td>2.000000</td>\n",
       "      <td>13.000000</td>\n",
       "      <td>999.000000</td>\n",
       "      <td>17205.000000</td>\n",
       "      <td>70.000000</td>\n",
       "      <td>22.000000</td>\n",
       "    </tr>\n",
       "  </tbody>\n",
       "</table>\n",
       "</div>"
      ],
      "text/plain": [
       "       registration_type  played_t11_before  registration_channel  \\\n",
       "count      342332.000000      342332.000000         342332.000000   \n",
       "mean            1.577337           1.028610              1.538071   \n",
       "std             0.804206           0.892683              0.566776   \n",
       "min             1.000000           0.000000              0.000000   \n",
       "25%             1.000000           0.000000              1.000000   \n",
       "50%             1.000000           1.000000              2.000000   \n",
       "75%             2.000000           2.000000              2.000000   \n",
       "max             3.000000           2.000000              2.000000   \n",
       "\n",
       "        network_type    device_tier    device_type  device_manufacturer  \\\n",
       "count  342332.000000  342332.000000  342332.000000        342332.000000   \n",
       "mean        1.272867       2.927082       1.105301             2.326283   \n",
       "std         0.573181       1.028048       0.306942             2.551360   \n",
       "min         0.000000       0.000000       1.000000             0.000000   \n",
       "25%         1.000000       2.000000       1.000000             1.000000   \n",
       "50%         1.000000       3.000000       1.000000             2.000000   \n",
       "75%         2.000000       4.000000       1.000000             3.000000   \n",
       "max         3.000000       4.000000       2.000000            13.000000   \n",
       "\n",
       "          screen_dpi  device_memory_size_mb  registrations       returned  \n",
       "count  340442.000000          340442.000000  342332.000000  342332.000000  \n",
       "mean      359.056964            3996.317517       1.567829       0.406874  \n",
       "std        88.342857            1896.398925       1.651584       0.716612  \n",
       "min        80.000000             452.000000       1.000000       0.000000  \n",
       "25%       315.000000            2789.000000       1.000000       0.000000  \n",
       "50%       320.000000            3680.000000       1.000000       0.000000  \n",
       "75%       440.000000            5572.000000       1.000000       1.000000  \n",
       "max       999.000000           17205.000000      70.000000      22.000000  "
      ]
     },
     "execution_count": 5,
     "metadata": {},
     "output_type": "execute_result"
    }
   ],
   "source": [
    "df.describe()"
   ]
  },
  {
   "cell_type": "code",
   "execution_count": 6,
   "id": "0d8ff281",
   "metadata": {},
   "outputs": [
    {
     "data": {
      "text/html": [
       "<div>\n",
       "<style scoped>\n",
       "    .dataframe tbody tr th:only-of-type {\n",
       "        vertical-align: middle;\n",
       "    }\n",
       "\n",
       "    .dataframe tbody tr th {\n",
       "        vertical-align: top;\n",
       "    }\n",
       "\n",
       "    .dataframe thead th {\n",
       "        text-align: right;\n",
       "    }\n",
       "</style>\n",
       "<table border=\"1\" class=\"dataframe\">\n",
       "  <thead>\n",
       "    <tr style=\"text-align: right;\">\n",
       "      <th></th>\n",
       "      <th>date</th>\n",
       "      <th>registration_type</th>\n",
       "      <th>played_t11_before</th>\n",
       "      <th>registration_channel</th>\n",
       "      <th>network_type</th>\n",
       "      <th>device_tier</th>\n",
       "      <th>device_type</th>\n",
       "      <th>device_manufacturer</th>\n",
       "      <th>screen_dpi</th>\n",
       "      <th>device_memory_size_mb</th>\n",
       "      <th>device_model</th>\n",
       "      <th>os_version</th>\n",
       "      <th>registrations</th>\n",
       "      <th>returned</th>\n",
       "    </tr>\n",
       "  </thead>\n",
       "  <tbody>\n",
       "    <tr>\n",
       "      <th>0</th>\n",
       "      <td>2022-06-02</td>\n",
       "      <td>3</td>\n",
       "      <td>0</td>\n",
       "      <td>1</td>\n",
       "      <td>1</td>\n",
       "      <td>3</td>\n",
       "      <td>1</td>\n",
       "      <td>2</td>\n",
       "      <td>320.0</td>\n",
       "      <td>2820.0</td>\n",
       "      <td>Xiaomi Redmi 7</td>\n",
       "      <td>Android OS 10 / API-29</td>\n",
       "      <td>1</td>\n",
       "      <td>1</td>\n",
       "    </tr>\n",
       "    <tr>\n",
       "      <th>1</th>\n",
       "      <td>2022-06-02</td>\n",
       "      <td>1</td>\n",
       "      <td>2</td>\n",
       "      <td>1</td>\n",
       "      <td>1</td>\n",
       "      <td>4</td>\n",
       "      <td>1</td>\n",
       "      <td>0</td>\n",
       "      <td>480.0</td>\n",
       "      <td>2740.0</td>\n",
       "      <td>OMIX OMIX X300</td>\n",
       "      <td>Android OS 11 / API-30</td>\n",
       "      <td>1</td>\n",
       "      <td>0</td>\n",
       "    </tr>\n",
       "    <tr>\n",
       "      <th>2</th>\n",
       "      <td>2022-06-02</td>\n",
       "      <td>3</td>\n",
       "      <td>0</td>\n",
       "      <td>1</td>\n",
       "      <td>1</td>\n",
       "      <td>3</td>\n",
       "      <td>1</td>\n",
       "      <td>1</td>\n",
       "      <td>315.0</td>\n",
       "      <td>3571.0</td>\n",
       "      <td>samsung SM-M215F</td>\n",
       "      <td>Android OS 11 / API-30</td>\n",
       "      <td>1</td>\n",
       "      <td>0</td>\n",
       "    </tr>\n",
       "    <tr>\n",
       "      <th>3</th>\n",
       "      <td>2022-06-02</td>\n",
       "      <td>1</td>\n",
       "      <td>2</td>\n",
       "      <td>2</td>\n",
       "      <td>1</td>\n",
       "      <td>2</td>\n",
       "      <td>1</td>\n",
       "      <td>10</td>\n",
       "      <td>320.0</td>\n",
       "      <td>3774.0</td>\n",
       "      <td>TECNO MOBILE LIMITED TECNO KC3</td>\n",
       "      <td>Android OS 9 / API-28</td>\n",
       "      <td>1</td>\n",
       "      <td>1</td>\n",
       "    </tr>\n",
       "    <tr>\n",
       "      <th>4</th>\n",
       "      <td>2022-06-02</td>\n",
       "      <td>1</td>\n",
       "      <td>2</td>\n",
       "      <td>2</td>\n",
       "      <td>1</td>\n",
       "      <td>1</td>\n",
       "      <td>1</td>\n",
       "      <td>1</td>\n",
       "      <td>320.0</td>\n",
       "      <td>889.0</td>\n",
       "      <td>samsung SM-A013G</td>\n",
       "      <td>Android OS 10 / API-29</td>\n",
       "      <td>1</td>\n",
       "      <td>0</td>\n",
       "    </tr>\n",
       "  </tbody>\n",
       "</table>\n",
       "</div>"
      ],
      "text/plain": [
       "         date  registration_type  played_t11_before  registration_channel  \\\n",
       "0  2022-06-02                  3                  0                     1   \n",
       "1  2022-06-02                  1                  2                     1   \n",
       "2  2022-06-02                  3                  0                     1   \n",
       "3  2022-06-02                  1                  2                     2   \n",
       "4  2022-06-02                  1                  2                     2   \n",
       "\n",
       "   network_type  device_tier  device_type  device_manufacturer  screen_dpi  \\\n",
       "0             1            3            1                    2       320.0   \n",
       "1             1            4            1                    0       480.0   \n",
       "2             1            3            1                    1       315.0   \n",
       "3             1            2            1                   10       320.0   \n",
       "4             1            1            1                    1       320.0   \n",
       "\n",
       "   device_memory_size_mb                    device_model  \\\n",
       "0                 2820.0                  Xiaomi Redmi 7   \n",
       "1                 2740.0                  OMIX OMIX X300   \n",
       "2                 3571.0                samsung SM-M215F   \n",
       "3                 3774.0  TECNO MOBILE LIMITED TECNO KC3   \n",
       "4                  889.0                samsung SM-A013G   \n",
       "\n",
       "               os_version  registrations  returned  \n",
       "0  Android OS 10 / API-29              1         1  \n",
       "1  Android OS 11 / API-30              1         0  \n",
       "2  Android OS 11 / API-30              1         0  \n",
       "3   Android OS 9 / API-28              1         1  \n",
       "4  Android OS 10 / API-29              1         0  "
      ]
     },
     "execution_count": 6,
     "metadata": {},
     "output_type": "execute_result"
    }
   ],
   "source": [
    "df.head()"
   ]
  },
  {
   "cell_type": "markdown",
   "id": "55570b1a",
   "metadata": {},
   "source": [
    "- We can't shuffle data because we have time series data and some date have more rows\n",
    "- we have missing values and non numeric values. I think i'll firstly convert all data into numbers, split and then "
   ]
  },
  {
   "cell_type": "code",
   "execution_count": 7,
   "id": "8b917015",
   "metadata": {},
   "outputs": [
    {
     "data": {
      "text/plain": [
       "320.0"
      ]
     },
     "execution_count": 7,
     "metadata": {},
     "output_type": "execute_result"
    }
   ],
   "source": [
    "df.screen_dpi.median()"
   ]
  },
  {
   "cell_type": "code",
   "execution_count": 8,
   "id": "7333c8f0",
   "metadata": {},
   "outputs": [
    {
     "data": {
      "text/plain": [
       "0    320.0\n",
       "Name: screen_dpi, dtype: float64"
      ]
     },
     "execution_count": 8,
     "metadata": {},
     "output_type": "execute_result"
    }
   ],
   "source": [
    "df.screen_dpi.mode()"
   ]
  },
  {
   "cell_type": "code",
   "execution_count": 9,
   "id": "37d7b23b",
   "metadata": {},
   "outputs": [
    {
     "data": {
      "text/plain": [
       "Android OS 11 / API-30       104801\n",
       "Android OS 10 / API-29        80577\n",
       "Android OS 12 / API-31        54064\n",
       "Android OS 9 / API-28         35797\n",
       "Android OS 8.1.0 / API-27     16038\n",
       "                              ...  \n",
       "Android OS 5.0 / API-19           1\n",
       "Android OS 8.1.1 / API-22         1\n",
       "Android OS 4.4 / API-19           1\n",
       "Android OS 7.0.0 / API-22         1\n",
       "Android OS 10.0 / API-28          1\n",
       "Name: os_version, Length: 79, dtype: int64"
      ]
     },
     "execution_count": 9,
     "metadata": {},
     "output_type": "execute_result"
    }
   ],
   "source": [
    "df.os_version.value_counts()"
   ]
  },
  {
   "cell_type": "code",
   "execution_count": 10,
   "id": "a6eae2eb",
   "metadata": {},
   "outputs": [
    {
     "data": {
      "text/html": [
       "<div>\n",
       "<style scoped>\n",
       "    .dataframe tbody tr th:only-of-type {\n",
       "        vertical-align: middle;\n",
       "    }\n",
       "\n",
       "    .dataframe tbody tr th {\n",
       "        vertical-align: top;\n",
       "    }\n",
       "\n",
       "    .dataframe thead th {\n",
       "        text-align: right;\n",
       "    }\n",
       "</style>\n",
       "<table border=\"1\" class=\"dataframe\">\n",
       "  <thead>\n",
       "    <tr style=\"text-align: right;\">\n",
       "      <th></th>\n",
       "      <th>date</th>\n",
       "      <th>registration_type</th>\n",
       "      <th>played_t11_before</th>\n",
       "      <th>registration_channel</th>\n",
       "      <th>network_type</th>\n",
       "      <th>device_tier</th>\n",
       "      <th>device_type</th>\n",
       "      <th>device_manufacturer</th>\n",
       "      <th>screen_dpi</th>\n",
       "      <th>device_memory_size_mb</th>\n",
       "      <th>device_model</th>\n",
       "      <th>os_version</th>\n",
       "      <th>registrations</th>\n",
       "      <th>returned</th>\n",
       "    </tr>\n",
       "  </thead>\n",
       "  <tbody>\n",
       "    <tr>\n",
       "      <th>342327</th>\n",
       "      <td>2022-09-15</td>\n",
       "      <td>1</td>\n",
       "      <td>1</td>\n",
       "      <td>2</td>\n",
       "      <td>2</td>\n",
       "      <td>2</td>\n",
       "      <td>1</td>\n",
       "      <td>11</td>\n",
       "      <td>480.0</td>\n",
       "      <td>2848.0</td>\n",
       "      <td>LENOVO Lenovo K53a48</td>\n",
       "      <td>Android OS 7.0 / API-24</td>\n",
       "      <td>1</td>\n",
       "      <td>0</td>\n",
       "    </tr>\n",
       "    <tr>\n",
       "      <th>342328</th>\n",
       "      <td>2022-09-15</td>\n",
       "      <td>2</td>\n",
       "      <td>0</td>\n",
       "      <td>2</td>\n",
       "      <td>1</td>\n",
       "      <td>4</td>\n",
       "      <td>1</td>\n",
       "      <td>1</td>\n",
       "      <td>420.0</td>\n",
       "      <td>7443.0</td>\n",
       "      <td>samsung SM-N985F</td>\n",
       "      <td>Android OS 12 / API-31</td>\n",
       "      <td>3</td>\n",
       "      <td>0</td>\n",
       "    </tr>\n",
       "    <tr>\n",
       "      <th>342329</th>\n",
       "      <td>2022-09-15</td>\n",
       "      <td>1</td>\n",
       "      <td>1</td>\n",
       "      <td>1</td>\n",
       "      <td>1</td>\n",
       "      <td>3</td>\n",
       "      <td>1</td>\n",
       "      <td>4</td>\n",
       "      <td>320.0</td>\n",
       "      <td>3688.0</td>\n",
       "      <td>HUAWEI MAR-LX1A</td>\n",
       "      <td>Android OS 10 / API-29</td>\n",
       "      <td>1</td>\n",
       "      <td>0</td>\n",
       "    </tr>\n",
       "    <tr>\n",
       "      <th>342330</th>\n",
       "      <td>2022-09-15</td>\n",
       "      <td>1</td>\n",
       "      <td>1</td>\n",
       "      <td>1</td>\n",
       "      <td>1</td>\n",
       "      <td>4</td>\n",
       "      <td>1</td>\n",
       "      <td>0</td>\n",
       "      <td>480.0</td>\n",
       "      <td>3748.0</td>\n",
       "      <td>OMIX OMIX X500</td>\n",
       "      <td>Android OS 11 / API-30</td>\n",
       "      <td>2</td>\n",
       "      <td>0</td>\n",
       "    </tr>\n",
       "    <tr>\n",
       "      <th>342331</th>\n",
       "      <td>2022-09-15</td>\n",
       "      <td>1</td>\n",
       "      <td>1</td>\n",
       "      <td>2</td>\n",
       "      <td>2</td>\n",
       "      <td>4</td>\n",
       "      <td>1</td>\n",
       "      <td>2</td>\n",
       "      <td>440.0</td>\n",
       "      <td>5613.0</td>\n",
       "      <td>Xiaomi M2101K7BG</td>\n",
       "      <td>Android OS 11 / API-30</td>\n",
       "      <td>2</td>\n",
       "      <td>0</td>\n",
       "    </tr>\n",
       "  </tbody>\n",
       "</table>\n",
       "</div>"
      ],
      "text/plain": [
       "              date  registration_type  played_t11_before  \\\n",
       "342327  2022-09-15                  1                  1   \n",
       "342328  2022-09-15                  2                  0   \n",
       "342329  2022-09-15                  1                  1   \n",
       "342330  2022-09-15                  1                  1   \n",
       "342331  2022-09-15                  1                  1   \n",
       "\n",
       "        registration_channel  network_type  device_tier  device_type  \\\n",
       "342327                     2             2            2            1   \n",
       "342328                     2             1            4            1   \n",
       "342329                     1             1            3            1   \n",
       "342330                     1             1            4            1   \n",
       "342331                     2             2            4            1   \n",
       "\n",
       "        device_manufacturer  screen_dpi  device_memory_size_mb  \\\n",
       "342327                   11       480.0                 2848.0   \n",
       "342328                    1       420.0                 7443.0   \n",
       "342329                    4       320.0                 3688.0   \n",
       "342330                    0       480.0                 3748.0   \n",
       "342331                    2       440.0                 5613.0   \n",
       "\n",
       "                device_model               os_version  registrations  returned  \n",
       "342327  LENOVO Lenovo K53a48  Android OS 7.0 / API-24              1         0  \n",
       "342328      samsung SM-N985F   Android OS 12 / API-31              3         0  \n",
       "342329       HUAWEI MAR-LX1A   Android OS 10 / API-29              1         0  \n",
       "342330        OMIX OMIX X500   Android OS 11 / API-30              2         0  \n",
       "342331      Xiaomi M2101K7BG   Android OS 11 / API-30              2         0  "
      ]
     },
     "execution_count": 10,
     "metadata": {},
     "output_type": "execute_result"
    }
   ],
   "source": [
    "df.tail()"
   ]
  },
  {
   "cell_type": "code",
   "execution_count": 11,
   "id": "657e0c98",
   "metadata": {},
   "outputs": [
    {
     "data": {
      "text/plain": [
       "Xiaomi Redmi Note 8 Pro    7380\n",
       "Xiaomi Redmi Note 8        6643\n",
       "samsung SM-G610F           5001\n",
       "Xiaomi M2003J15SC          4735\n",
       "Xiaomi Redmi Note 9 Pro    4050\n",
       "                           ... \n",
       "samsung SM-J410G              1\n",
       "LEFE Blade X9                 1\n",
       "OnePlus IV2201                1\n",
       "SNCOIA QT19101                1\n",
       "HUAWEI VKY-AL00               1\n",
       "Name: device_model, Length: 3236, dtype: int64"
      ]
     },
     "execution_count": 11,
     "metadata": {},
     "output_type": "execute_result"
    }
   ],
   "source": [
    "df.device_model.value_counts()"
   ]
  },
  {
   "cell_type": "code",
   "execution_count": 12,
   "id": "df5f5d5a",
   "metadata": {},
   "outputs": [
    {
     "data": {
      "text/plain": [
       "0    3679.0\n",
       "Name: device_memory_size_mb, dtype: float64"
      ]
     },
     "execution_count": 12,
     "metadata": {},
     "output_type": "execute_result"
    }
   ],
   "source": [
    "df.device_memory_size_mb.mode()"
   ]
  },
  {
   "cell_type": "code",
   "execution_count": 13,
   "id": "8c8e0530",
   "metadata": {},
   "outputs": [
    {
     "data": {
      "text/plain": [
       "3680.0"
      ]
     },
     "execution_count": 13,
     "metadata": {},
     "output_type": "execute_result"
    }
   ],
   "source": [
    "df.device_memory_size_mb.median()"
   ]
  },
  {
   "cell_type": "markdown",
   "id": "86991cc5",
   "metadata": {},
   "source": [
    " - So missing values in columns 'device_memory_size' and 'screen_dpi' we will fill up with median value\n",
    " - And rows with missing device_model and os_version I am going to delete, because I am not sure how it will affect on result if I fill it up with the most common values\n",
    " - we have a enough data, so I know that for machine learning is better to have more data but I will try on this way"
   ]
  },
  {
   "cell_type": "code",
   "execution_count": 14,
   "id": "a6f20896",
   "metadata": {},
   "outputs": [],
   "source": [
    "df['device_memory_size_mb'] = df['device_memory_size_mb'].fillna(df['device_memory_size_mb'].median())\n"
   ]
  },
  {
   "cell_type": "code",
   "execution_count": 15,
   "id": "b0f89373",
   "metadata": {},
   "outputs": [],
   "source": [
    "df['screen_dpi'] = df['screen_dpi'].fillna(df['screen_dpi'].median())\n"
   ]
  },
  {
   "cell_type": "code",
   "execution_count": 16,
   "id": "60f28082",
   "metadata": {},
   "outputs": [
    {
     "data": {
      "text/plain": [
       "date                        0\n",
       "registration_type           0\n",
       "played_t11_before           0\n",
       "registration_channel        0\n",
       "network_type                0\n",
       "device_tier                 0\n",
       "device_type                 0\n",
       "device_manufacturer         0\n",
       "screen_dpi                  0\n",
       "device_memory_size_mb       0\n",
       "device_model             1890\n",
       "os_version               1890\n",
       "registrations               0\n",
       "returned                    0\n",
       "dtype: int64"
      ]
     },
     "execution_count": 16,
     "metadata": {},
     "output_type": "execute_result"
    }
   ],
   "source": [
    "df.isna().sum()"
   ]
  },
  {
   "cell_type": "code",
   "execution_count": 17,
   "id": "1df2073b",
   "metadata": {},
   "outputs": [],
   "source": [
    "df.dropna(axis=0, how='any', inplace=True)"
   ]
  },
  {
   "cell_type": "code",
   "execution_count": 18,
   "id": "44e10471",
   "metadata": {},
   "outputs": [
    {
     "name": "stdout",
     "output_type": "stream",
     "text": [
      "<class 'pandas.core.frame.DataFrame'>\n",
      "Int64Index: 340442 entries, 0 to 342331\n",
      "Data columns (total 14 columns):\n",
      " #   Column                 Non-Null Count   Dtype  \n",
      "---  ------                 --------------   -----  \n",
      " 0   date                   340442 non-null  object \n",
      " 1   registration_type      340442 non-null  int64  \n",
      " 2   played_t11_before      340442 non-null  int64  \n",
      " 3   registration_channel   340442 non-null  int64  \n",
      " 4   network_type           340442 non-null  int64  \n",
      " 5   device_tier            340442 non-null  int64  \n",
      " 6   device_type            340442 non-null  int64  \n",
      " 7   device_manufacturer    340442 non-null  int64  \n",
      " 8   screen_dpi             340442 non-null  float64\n",
      " 9   device_memory_size_mb  340442 non-null  float64\n",
      " 10  device_model           340442 non-null  object \n",
      " 11  os_version             340442 non-null  object \n",
      " 12  registrations          340442 non-null  int64  \n",
      " 13  returned               340442 non-null  int64  \n",
      "dtypes: float64(2), int64(9), object(3)\n",
      "memory usage: 39.0+ MB\n"
     ]
    }
   ],
   "source": [
    "df.info()"
   ]
  },
  {
   "cell_type": "code",
   "execution_count": 19,
   "id": "deb3a54d",
   "metadata": {},
   "outputs": [
    {
     "data": {
      "text/plain": [
       "(date                     0\n",
       " registration_type        0\n",
       " played_t11_before        0\n",
       " registration_channel     0\n",
       " network_type             0\n",
       " device_tier              0\n",
       " device_type              0\n",
       " device_manufacturer      0\n",
       " screen_dpi               0\n",
       " device_memory_size_mb    0\n",
       " device_model             0\n",
       " os_version               0\n",
       " registrations            0\n",
       " returned                 0\n",
       " dtype: int64,\n",
       " (340442, 14))"
      ]
     },
     "execution_count": 19,
     "metadata": {},
     "output_type": "execute_result"
    }
   ],
   "source": [
    "df.isnull().sum(), df.shape"
   ]
  },
  {
   "cell_type": "code",
   "execution_count": 20,
   "id": "05263d37",
   "metadata": {},
   "outputs": [],
   "source": [
    "df['month'] = pd.DatetimeIndex(df['date']).month\n",
    "df['day_of_week'] = pd.DatetimeIndex(df['date']).dayofweek\n",
    "df['day_of_month'] = pd.DatetimeIndex(df['date']).day"
   ]
  },
  {
   "cell_type": "code",
   "execution_count": 21,
   "id": "f3ff0ec3",
   "metadata": {},
   "outputs": [
    {
     "data": {
      "text/plain": [
       "(date                     0\n",
       " registration_type        0\n",
       " played_t11_before        0\n",
       " registration_channel     0\n",
       " network_type             0\n",
       " device_tier              0\n",
       " device_type              0\n",
       " device_manufacturer      0\n",
       " screen_dpi               0\n",
       " device_memory_size_mb    0\n",
       " device_model             0\n",
       " os_version               0\n",
       " registrations            0\n",
       " returned                 0\n",
       " month                    0\n",
       " day_of_week              0\n",
       " day_of_month             0\n",
       " dtype: int64,\n",
       " (340442, 17))"
      ]
     },
     "execution_count": 21,
     "metadata": {},
     "output_type": "execute_result"
    }
   ],
   "source": [
    "df.isnull().sum(), df.shape"
   ]
  },
  {
   "cell_type": "code",
   "execution_count": 22,
   "id": "74191cfe",
   "metadata": {},
   "outputs": [],
   "source": [
    "# So now we can split data into train and test set"
   ]
  },
  {
   "cell_type": "code",
   "execution_count": 23,
   "id": "0c67d0c1",
   "metadata": {},
   "outputs": [
    {
     "data": {
      "text/html": [
       "<div>\n",
       "<style scoped>\n",
       "    .dataframe tbody tr th:only-of-type {\n",
       "        vertical-align: middle;\n",
       "    }\n",
       "\n",
       "    .dataframe tbody tr th {\n",
       "        vertical-align: top;\n",
       "    }\n",
       "\n",
       "    .dataframe thead th {\n",
       "        text-align: right;\n",
       "    }\n",
       "</style>\n",
       "<table border=\"1\" class=\"dataframe\">\n",
       "  <thead>\n",
       "    <tr style=\"text-align: right;\">\n",
       "      <th></th>\n",
       "      <th>date</th>\n",
       "      <th>registration_type</th>\n",
       "      <th>played_t11_before</th>\n",
       "      <th>registration_channel</th>\n",
       "      <th>network_type</th>\n",
       "      <th>device_tier</th>\n",
       "      <th>device_type</th>\n",
       "      <th>device_manufacturer</th>\n",
       "      <th>screen_dpi</th>\n",
       "      <th>device_memory_size_mb</th>\n",
       "      <th>device_model</th>\n",
       "      <th>os_version</th>\n",
       "      <th>registrations</th>\n",
       "      <th>returned</th>\n",
       "      <th>month</th>\n",
       "      <th>day_of_week</th>\n",
       "      <th>day_of_month</th>\n",
       "    </tr>\n",
       "  </thead>\n",
       "  <tbody>\n",
       "    <tr>\n",
       "      <th>10061</th>\n",
       "      <td>2022-06-05</td>\n",
       "      <td>1</td>\n",
       "      <td>2</td>\n",
       "      <td>2</td>\n",
       "      <td>1</td>\n",
       "      <td>3</td>\n",
       "      <td>1</td>\n",
       "      <td>1</td>\n",
       "      <td>320.0</td>\n",
       "      <td>2827.0</td>\n",
       "      <td>samsung SM-N910C</td>\n",
       "      <td>Android OS 6.0.1 / API-23</td>\n",
       "      <td>2</td>\n",
       "      <td>0</td>\n",
       "      <td>6</td>\n",
       "      <td>6</td>\n",
       "      <td>5</td>\n",
       "    </tr>\n",
       "    <tr>\n",
       "      <th>10062</th>\n",
       "      <td>2022-06-05</td>\n",
       "      <td>3</td>\n",
       "      <td>0</td>\n",
       "      <td>0</td>\n",
       "      <td>1</td>\n",
       "      <td>3</td>\n",
       "      <td>1</td>\n",
       "      <td>4</td>\n",
       "      <td>480.0</td>\n",
       "      <td>3678.0</td>\n",
       "      <td>HUAWEI PPA-LX2</td>\n",
       "      <td>Android OS 10 / API-29</td>\n",
       "      <td>1</td>\n",
       "      <td>1</td>\n",
       "      <td>6</td>\n",
       "      <td>6</td>\n",
       "      <td>5</td>\n",
       "    </tr>\n",
       "    <tr>\n",
       "      <th>10063</th>\n",
       "      <td>2022-06-05</td>\n",
       "      <td>1</td>\n",
       "      <td>2</td>\n",
       "      <td>2</td>\n",
       "      <td>1</td>\n",
       "      <td>3</td>\n",
       "      <td>1</td>\n",
       "      <td>1</td>\n",
       "      <td>280.0</td>\n",
       "      <td>1724.0</td>\n",
       "      <td>samsung SM-A105FN</td>\n",
       "      <td>Android OS 10 / API-29</td>\n",
       "      <td>2</td>\n",
       "      <td>0</td>\n",
       "      <td>6</td>\n",
       "      <td>6</td>\n",
       "      <td>5</td>\n",
       "    </tr>\n",
       "    <tr>\n",
       "      <th>10064</th>\n",
       "      <td>2022-06-05</td>\n",
       "      <td>1</td>\n",
       "      <td>2</td>\n",
       "      <td>2</td>\n",
       "      <td>2</td>\n",
       "      <td>2</td>\n",
       "      <td>1</td>\n",
       "      <td>4</td>\n",
       "      <td>480.0</td>\n",
       "      <td>3788.0</td>\n",
       "      <td>HUAWEI WAS-LX1A</td>\n",
       "      <td>Android OS 8.0.0 / API-26</td>\n",
       "      <td>1</td>\n",
       "      <td>1</td>\n",
       "      <td>6</td>\n",
       "      <td>6</td>\n",
       "      <td>5</td>\n",
       "    </tr>\n",
       "    <tr>\n",
       "      <th>10065</th>\n",
       "      <td>2022-06-05</td>\n",
       "      <td>1</td>\n",
       "      <td>2</td>\n",
       "      <td>2</td>\n",
       "      <td>1</td>\n",
       "      <td>2</td>\n",
       "      <td>1</td>\n",
       "      <td>0</td>\n",
       "      <td>280.0</td>\n",
       "      <td>2791.0</td>\n",
       "      <td>General Mobile G300</td>\n",
       "      <td>Android OS 10 / API-29</td>\n",
       "      <td>1</td>\n",
       "      <td>0</td>\n",
       "      <td>6</td>\n",
       "      <td>6</td>\n",
       "      <td>5</td>\n",
       "    </tr>\n",
       "    <tr>\n",
       "      <th>10066</th>\n",
       "      <td>2022-06-05</td>\n",
       "      <td>1</td>\n",
       "      <td>1</td>\n",
       "      <td>1</td>\n",
       "      <td>1</td>\n",
       "      <td>1</td>\n",
       "      <td>1</td>\n",
       "      <td>1</td>\n",
       "      <td>240.0</td>\n",
       "      <td>1407.0</td>\n",
       "      <td>samsung SM-G532F</td>\n",
       "      <td>Android OS 6.0.1 / API-23</td>\n",
       "      <td>2</td>\n",
       "      <td>0</td>\n",
       "      <td>6</td>\n",
       "      <td>6</td>\n",
       "      <td>5</td>\n",
       "    </tr>\n",
       "    <tr>\n",
       "      <th>10067</th>\n",
       "      <td>2022-06-05</td>\n",
       "      <td>1</td>\n",
       "      <td>2</td>\n",
       "      <td>2</td>\n",
       "      <td>0</td>\n",
       "      <td>4</td>\n",
       "      <td>1</td>\n",
       "      <td>2</td>\n",
       "      <td>440.0</td>\n",
       "      <td>5630.0</td>\n",
       "      <td>Xiaomi M2007J20CG</td>\n",
       "      <td>Android OS 11 / API-30</td>\n",
       "      <td>1</td>\n",
       "      <td>1</td>\n",
       "      <td>6</td>\n",
       "      <td>6</td>\n",
       "      <td>5</td>\n",
       "    </tr>\n",
       "    <tr>\n",
       "      <th>10068</th>\n",
       "      <td>2022-06-05</td>\n",
       "      <td>1</td>\n",
       "      <td>2</td>\n",
       "      <td>1</td>\n",
       "      <td>2</td>\n",
       "      <td>4</td>\n",
       "      <td>1</td>\n",
       "      <td>4</td>\n",
       "      <td>480.0</td>\n",
       "      <td>5689.0</td>\n",
       "      <td>HUAWEI JNY-LX1</td>\n",
       "      <td>Android OS 10 / API-29</td>\n",
       "      <td>1</td>\n",
       "      <td>0</td>\n",
       "      <td>6</td>\n",
       "      <td>6</td>\n",
       "      <td>5</td>\n",
       "    </tr>\n",
       "    <tr>\n",
       "      <th>10069</th>\n",
       "      <td>2022-06-05</td>\n",
       "      <td>3</td>\n",
       "      <td>0</td>\n",
       "      <td>2</td>\n",
       "      <td>2</td>\n",
       "      <td>2</td>\n",
       "      <td>1</td>\n",
       "      <td>1</td>\n",
       "      <td>280.0</td>\n",
       "      <td>1791.0</td>\n",
       "      <td>samsung SM-A107F</td>\n",
       "      <td>Android OS 11 / API-30</td>\n",
       "      <td>2</td>\n",
       "      <td>1</td>\n",
       "      <td>6</td>\n",
       "      <td>6</td>\n",
       "      <td>5</td>\n",
       "    </tr>\n",
       "    <tr>\n",
       "      <th>10070</th>\n",
       "      <td>2022-06-05</td>\n",
       "      <td>3</td>\n",
       "      <td>0</td>\n",
       "      <td>2</td>\n",
       "      <td>0</td>\n",
       "      <td>4</td>\n",
       "      <td>1</td>\n",
       "      <td>7</td>\n",
       "      <td>320.0</td>\n",
       "      <td>3784.0</td>\n",
       "      <td>realme RMX3269</td>\n",
       "      <td>Android OS 11 / API-30</td>\n",
       "      <td>1</td>\n",
       "      <td>1</td>\n",
       "      <td>6</td>\n",
       "      <td>6</td>\n",
       "      <td>5</td>\n",
       "    </tr>\n",
       "    <tr>\n",
       "      <th>10071</th>\n",
       "      <td>2022-06-05</td>\n",
       "      <td>3</td>\n",
       "      <td>0</td>\n",
       "      <td>2</td>\n",
       "      <td>1</td>\n",
       "      <td>2</td>\n",
       "      <td>1</td>\n",
       "      <td>1</td>\n",
       "      <td>280.0</td>\n",
       "      <td>1811.0</td>\n",
       "      <td>samsung SM-A115F</td>\n",
       "      <td>Android OS 10 / API-29</td>\n",
       "      <td>1</td>\n",
       "      <td>1</td>\n",
       "      <td>6</td>\n",
       "      <td>6</td>\n",
       "      <td>5</td>\n",
       "    </tr>\n",
       "    <tr>\n",
       "      <th>10072</th>\n",
       "      <td>2022-06-05</td>\n",
       "      <td>1</td>\n",
       "      <td>1</td>\n",
       "      <td>2</td>\n",
       "      <td>1</td>\n",
       "      <td>3</td>\n",
       "      <td>1</td>\n",
       "      <td>1</td>\n",
       "      <td>320.0</td>\n",
       "      <td>2828.0</td>\n",
       "      <td>samsung SM-N910C</td>\n",
       "      <td>Android OS 6.0.1 / API-23</td>\n",
       "      <td>1</td>\n",
       "      <td>0</td>\n",
       "      <td>6</td>\n",
       "      <td>6</td>\n",
       "      <td>5</td>\n",
       "    </tr>\n",
       "    <tr>\n",
       "      <th>10073</th>\n",
       "      <td>2022-06-05</td>\n",
       "      <td>1</td>\n",
       "      <td>2</td>\n",
       "      <td>1</td>\n",
       "      <td>1</td>\n",
       "      <td>2</td>\n",
       "      <td>2</td>\n",
       "      <td>11</td>\n",
       "      <td>160.0</td>\n",
       "      <td>1972.0</td>\n",
       "      <td>LENOVO Lenovo TB-7306F</td>\n",
       "      <td>Android OS 11 / API-30</td>\n",
       "      <td>1</td>\n",
       "      <td>0</td>\n",
       "      <td>6</td>\n",
       "      <td>6</td>\n",
       "      <td>5</td>\n",
       "    </tr>\n",
       "    <tr>\n",
       "      <th>10074</th>\n",
       "      <td>2022-06-05</td>\n",
       "      <td>1</td>\n",
       "      <td>2</td>\n",
       "      <td>2</td>\n",
       "      <td>1</td>\n",
       "      <td>1</td>\n",
       "      <td>1</td>\n",
       "      <td>1</td>\n",
       "      <td>280.0</td>\n",
       "      <td>1891.0</td>\n",
       "      <td>samsung SM-J510FQ</td>\n",
       "      <td>Android OS 7.1.1 / API-25</td>\n",
       "      <td>1</td>\n",
       "      <td>0</td>\n",
       "      <td>6</td>\n",
       "      <td>6</td>\n",
       "      <td>5</td>\n",
       "    </tr>\n",
       "    <tr>\n",
       "      <th>10075</th>\n",
       "      <td>2022-06-05</td>\n",
       "      <td>1</td>\n",
       "      <td>2</td>\n",
       "      <td>1</td>\n",
       "      <td>1</td>\n",
       "      <td>2</td>\n",
       "      <td>2</td>\n",
       "      <td>1</td>\n",
       "      <td>180.0</td>\n",
       "      <td>2951.0</td>\n",
       "      <td>samsung SM-P580</td>\n",
       "      <td>Android OS 8.1.0 / API-27</td>\n",
       "      <td>3</td>\n",
       "      <td>0</td>\n",
       "      <td>6</td>\n",
       "      <td>6</td>\n",
       "      <td>5</td>\n",
       "    </tr>\n",
       "  </tbody>\n",
       "</table>\n",
       "</div>"
      ],
      "text/plain": [
       "             date  registration_type  played_t11_before  registration_channel  \\\n",
       "10061  2022-06-05                  1                  2                     2   \n",
       "10062  2022-06-05                  3                  0                     0   \n",
       "10063  2022-06-05                  1                  2                     2   \n",
       "10064  2022-06-05                  1                  2                     2   \n",
       "10065  2022-06-05                  1                  2                     2   \n",
       "10066  2022-06-05                  1                  1                     1   \n",
       "10067  2022-06-05                  1                  2                     2   \n",
       "10068  2022-06-05                  1                  2                     1   \n",
       "10069  2022-06-05                  3                  0                     2   \n",
       "10070  2022-06-05                  3                  0                     2   \n",
       "10071  2022-06-05                  3                  0                     2   \n",
       "10072  2022-06-05                  1                  1                     2   \n",
       "10073  2022-06-05                  1                  2                     1   \n",
       "10074  2022-06-05                  1                  2                     2   \n",
       "10075  2022-06-05                  1                  2                     1   \n",
       "\n",
       "       network_type  device_tier  device_type  device_manufacturer  \\\n",
       "10061             1            3            1                    1   \n",
       "10062             1            3            1                    4   \n",
       "10063             1            3            1                    1   \n",
       "10064             2            2            1                    4   \n",
       "10065             1            2            1                    0   \n",
       "10066             1            1            1                    1   \n",
       "10067             0            4            1                    2   \n",
       "10068             2            4            1                    4   \n",
       "10069             2            2            1                    1   \n",
       "10070             0            4            1                    7   \n",
       "10071             1            2            1                    1   \n",
       "10072             1            3            1                    1   \n",
       "10073             1            2            2                   11   \n",
       "10074             1            1            1                    1   \n",
       "10075             1            2            2                    1   \n",
       "\n",
       "       screen_dpi  device_memory_size_mb            device_model  \\\n",
       "10061       320.0                 2827.0        samsung SM-N910C   \n",
       "10062       480.0                 3678.0          HUAWEI PPA-LX2   \n",
       "10063       280.0                 1724.0       samsung SM-A105FN   \n",
       "10064       480.0                 3788.0         HUAWEI WAS-LX1A   \n",
       "10065       280.0                 2791.0     General Mobile G300   \n",
       "10066       240.0                 1407.0        samsung SM-G532F   \n",
       "10067       440.0                 5630.0       Xiaomi M2007J20CG   \n",
       "10068       480.0                 5689.0          HUAWEI JNY-LX1   \n",
       "10069       280.0                 1791.0        samsung SM-A107F   \n",
       "10070       320.0                 3784.0          realme RMX3269   \n",
       "10071       280.0                 1811.0        samsung SM-A115F   \n",
       "10072       320.0                 2828.0        samsung SM-N910C   \n",
       "10073       160.0                 1972.0  LENOVO Lenovo TB-7306F   \n",
       "10074       280.0                 1891.0       samsung SM-J510FQ   \n",
       "10075       180.0                 2951.0         samsung SM-P580   \n",
       "\n",
       "                      os_version  registrations  returned  month  day_of_week  \\\n",
       "10061  Android OS 6.0.1 / API-23              2         0      6            6   \n",
       "10062     Android OS 10 / API-29              1         1      6            6   \n",
       "10063     Android OS 10 / API-29              2         0      6            6   \n",
       "10064  Android OS 8.0.0 / API-26              1         1      6            6   \n",
       "10065     Android OS 10 / API-29              1         0      6            6   \n",
       "10066  Android OS 6.0.1 / API-23              2         0      6            6   \n",
       "10067     Android OS 11 / API-30              1         1      6            6   \n",
       "10068     Android OS 10 / API-29              1         0      6            6   \n",
       "10069     Android OS 11 / API-30              2         1      6            6   \n",
       "10070     Android OS 11 / API-30              1         1      6            6   \n",
       "10071     Android OS 10 / API-29              1         1      6            6   \n",
       "10072  Android OS 6.0.1 / API-23              1         0      6            6   \n",
       "10073     Android OS 11 / API-30              1         0      6            6   \n",
       "10074  Android OS 7.1.1 / API-25              1         0      6            6   \n",
       "10075  Android OS 8.1.0 / API-27              3         0      6            6   \n",
       "\n",
       "       day_of_month  \n",
       "10061             5  \n",
       "10062             5  \n",
       "10063             5  \n",
       "10064             5  \n",
       "10065             5  \n",
       "10066             5  \n",
       "10067             5  \n",
       "10068             5  \n",
       "10069             5  \n",
       "10070             5  \n",
       "10071             5  \n",
       "10072             5  \n",
       "10073             5  \n",
       "10074             5  \n",
       "10075             5  "
      ]
     },
     "execution_count": 23,
     "metadata": {},
     "output_type": "execute_result"
    }
   ],
   "source": [
    "df[10000:10015]"
   ]
  },
  {
   "cell_type": "code",
   "execution_count": 24,
   "id": "eead6801",
   "metadata": {},
   "outputs": [],
   "source": [
    "df['device_brand'] = df['device_model'].str.split(' ').str[0]"
   ]
  },
  {
   "cell_type": "code",
   "execution_count": 25,
   "id": "a4d9a281",
   "metadata": {},
   "outputs": [],
   "source": [
    "df.drop('device_brand', axis=1, inplace=True)\n",
    "# I've realized so late we have similar column"
   ]
  },
  {
   "cell_type": "code",
   "execution_count": 26,
   "id": "b9f9eef5",
   "metadata": {},
   "outputs": [
    {
     "data": {
      "text/plain": [
       "(340442, 17)"
      ]
     },
     "execution_count": 26,
     "metadata": {},
     "output_type": "execute_result"
    }
   ],
   "source": [
    "df.shape"
   ]
  },
  {
   "cell_type": "code",
   "execution_count": 219,
   "id": "f3a0fb10",
   "metadata": {},
   "outputs": [],
   "source": [
    "# here is code for column part of month"
   ]
  },
  {
   "cell_type": "code",
   "execution_count": 68,
   "id": "ea715454",
   "metadata": {},
   "outputs": [
    {
     "data": {
      "text/plain": [
       "'count1 =0\\ncount2 =0\\nfor i in list_days:\\n    if list_days[i]==2:\\n        count1=count1+1\\n    else:\\n        count2=count2+1'"
      ]
     },
     "execution_count": 68,
     "metadata": {},
     "output_type": "execute_result"
    }
   ],
   "source": [
    "\"\"\"count1 =0\n",
    "count2 =0\n",
    "for i in list_days:\n",
    "    if list_days[i]==2:\n",
    "        count1=count1+1\n",
    "    else:\n",
    "        count2=count2+1\"\"\""
   ]
  },
  {
   "cell_type": "markdown",
   "id": "dd4f40c3",
   "metadata": {},
   "source": [
    "### Split data into training and test sets\n",
    "\n",
    "     We're going to make train/test set, see correlations in train set. And after that turn everything into numbers, split df_train into train and validation(10%) and try to fit"
   ]
  },
  {
   "cell_type": "code",
   "execution_count": 69,
   "id": "1115fe2c",
   "metadata": {},
   "outputs": [
    {
     "data": {
      "text/plain": [
       "8    102381\n",
       "7     96067\n",
       "6     92960\n",
       "9     49034\n",
       "Name: month, dtype: int64"
      ]
     },
     "execution_count": 69,
     "metadata": {},
     "output_type": "execute_result"
    }
   ],
   "source": [
    "df.month.value_counts()"
   ]
  },
  {
   "cell_type": "code",
   "execution_count": 70,
   "id": "71b8dc0b",
   "metadata": {},
   "outputs": [],
   "source": [
    "df_test = df[df.month == 9]\n",
    "df_train = df[df.month != 9]"
   ]
  },
  {
   "cell_type": "code",
   "execution_count": 71,
   "id": "c5beec68",
   "metadata": {},
   "outputs": [
    {
     "data": {
      "text/plain": [
       "(49034, 291408, (49034, 17), (291408, 17))"
      ]
     },
     "execution_count": 71,
     "metadata": {},
     "output_type": "execute_result"
    }
   ],
   "source": [
    "len(df_test), len(df_train), df_test.shape, df_train.shape"
   ]
  },
  {
   "cell_type": "code",
   "execution_count": 72,
   "id": "cd3029d5",
   "metadata": {},
   "outputs": [
    {
     "data": {
      "text/html": [
       "<div>\n",
       "<style scoped>\n",
       "    .dataframe tbody tr th:only-of-type {\n",
       "        vertical-align: middle;\n",
       "    }\n",
       "\n",
       "    .dataframe tbody tr th {\n",
       "        vertical-align: top;\n",
       "    }\n",
       "\n",
       "    .dataframe thead th {\n",
       "        text-align: right;\n",
       "    }\n",
       "</style>\n",
       "<table border=\"1\" class=\"dataframe\">\n",
       "  <thead>\n",
       "    <tr style=\"text-align: right;\">\n",
       "      <th></th>\n",
       "      <th>date</th>\n",
       "      <th>registration_type</th>\n",
       "      <th>played_t11_before</th>\n",
       "      <th>registration_channel</th>\n",
       "      <th>network_type</th>\n",
       "      <th>device_tier</th>\n",
       "      <th>device_type</th>\n",
       "      <th>device_manufacturer</th>\n",
       "      <th>screen_dpi</th>\n",
       "      <th>device_memory_size_mb</th>\n",
       "      <th>device_model</th>\n",
       "      <th>os_version</th>\n",
       "      <th>registrations</th>\n",
       "      <th>returned</th>\n",
       "      <th>month</th>\n",
       "      <th>day_of_week</th>\n",
       "      <th>day_of_month</th>\n",
       "    </tr>\n",
       "  </thead>\n",
       "  <tbody>\n",
       "    <tr>\n",
       "      <th>0</th>\n",
       "      <td>2022-06-02</td>\n",
       "      <td>3</td>\n",
       "      <td>0</td>\n",
       "      <td>1</td>\n",
       "      <td>1</td>\n",
       "      <td>3</td>\n",
       "      <td>1</td>\n",
       "      <td>2</td>\n",
       "      <td>320.0</td>\n",
       "      <td>2820.0</td>\n",
       "      <td>Xiaomi Redmi 7</td>\n",
       "      <td>Android OS 10 / API-29</td>\n",
       "      <td>1</td>\n",
       "      <td>1</td>\n",
       "      <td>6</td>\n",
       "      <td>3</td>\n",
       "      <td>2</td>\n",
       "    </tr>\n",
       "    <tr>\n",
       "      <th>1</th>\n",
       "      <td>2022-06-02</td>\n",
       "      <td>1</td>\n",
       "      <td>2</td>\n",
       "      <td>1</td>\n",
       "      <td>1</td>\n",
       "      <td>4</td>\n",
       "      <td>1</td>\n",
       "      <td>0</td>\n",
       "      <td>480.0</td>\n",
       "      <td>2740.0</td>\n",
       "      <td>OMIX OMIX X300</td>\n",
       "      <td>Android OS 11 / API-30</td>\n",
       "      <td>1</td>\n",
       "      <td>0</td>\n",
       "      <td>6</td>\n",
       "      <td>3</td>\n",
       "      <td>2</td>\n",
       "    </tr>\n",
       "    <tr>\n",
       "      <th>2</th>\n",
       "      <td>2022-06-02</td>\n",
       "      <td>3</td>\n",
       "      <td>0</td>\n",
       "      <td>1</td>\n",
       "      <td>1</td>\n",
       "      <td>3</td>\n",
       "      <td>1</td>\n",
       "      <td>1</td>\n",
       "      <td>315.0</td>\n",
       "      <td>3571.0</td>\n",
       "      <td>samsung SM-M215F</td>\n",
       "      <td>Android OS 11 / API-30</td>\n",
       "      <td>1</td>\n",
       "      <td>0</td>\n",
       "      <td>6</td>\n",
       "      <td>3</td>\n",
       "      <td>2</td>\n",
       "    </tr>\n",
       "    <tr>\n",
       "      <th>3</th>\n",
       "      <td>2022-06-02</td>\n",
       "      <td>1</td>\n",
       "      <td>2</td>\n",
       "      <td>2</td>\n",
       "      <td>1</td>\n",
       "      <td>2</td>\n",
       "      <td>1</td>\n",
       "      <td>10</td>\n",
       "      <td>320.0</td>\n",
       "      <td>3774.0</td>\n",
       "      <td>TECNO MOBILE LIMITED TECNO KC3</td>\n",
       "      <td>Android OS 9 / API-28</td>\n",
       "      <td>1</td>\n",
       "      <td>1</td>\n",
       "      <td>6</td>\n",
       "      <td>3</td>\n",
       "      <td>2</td>\n",
       "    </tr>\n",
       "    <tr>\n",
       "      <th>4</th>\n",
       "      <td>2022-06-02</td>\n",
       "      <td>1</td>\n",
       "      <td>2</td>\n",
       "      <td>2</td>\n",
       "      <td>1</td>\n",
       "      <td>1</td>\n",
       "      <td>1</td>\n",
       "      <td>1</td>\n",
       "      <td>320.0</td>\n",
       "      <td>889.0</td>\n",
       "      <td>samsung SM-A013G</td>\n",
       "      <td>Android OS 10 / API-29</td>\n",
       "      <td>1</td>\n",
       "      <td>0</td>\n",
       "      <td>6</td>\n",
       "      <td>3</td>\n",
       "      <td>2</td>\n",
       "    </tr>\n",
       "  </tbody>\n",
       "</table>\n",
       "</div>"
      ],
      "text/plain": [
       "         date  registration_type  played_t11_before  registration_channel  \\\n",
       "0  2022-06-02                  3                  0                     1   \n",
       "1  2022-06-02                  1                  2                     1   \n",
       "2  2022-06-02                  3                  0                     1   \n",
       "3  2022-06-02                  1                  2                     2   \n",
       "4  2022-06-02                  1                  2                     2   \n",
       "\n",
       "   network_type  device_tier  device_type  device_manufacturer  screen_dpi  \\\n",
       "0             1            3            1                    2       320.0   \n",
       "1             1            4            1                    0       480.0   \n",
       "2             1            3            1                    1       315.0   \n",
       "3             1            2            1                   10       320.0   \n",
       "4             1            1            1                    1       320.0   \n",
       "\n",
       "   device_memory_size_mb                    device_model  \\\n",
       "0                 2820.0                  Xiaomi Redmi 7   \n",
       "1                 2740.0                  OMIX OMIX X300   \n",
       "2                 3571.0                samsung SM-M215F   \n",
       "3                 3774.0  TECNO MOBILE LIMITED TECNO KC3   \n",
       "4                  889.0                samsung SM-A013G   \n",
       "\n",
       "               os_version  registrations  returned  month  day_of_week  \\\n",
       "0  Android OS 10 / API-29              1         1      6            3   \n",
       "1  Android OS 11 / API-30              1         0      6            3   \n",
       "2  Android OS 11 / API-30              1         0      6            3   \n",
       "3   Android OS 9 / API-28              1         1      6            3   \n",
       "4  Android OS 10 / API-29              1         0      6            3   \n",
       "\n",
       "   day_of_month  \n",
       "0             2  \n",
       "1             2  \n",
       "2             2  \n",
       "3             2  \n",
       "4             2  "
      ]
     },
     "execution_count": 72,
     "metadata": {},
     "output_type": "execute_result"
    }
   ],
   "source": [
    "df_train.head(5)"
   ]
  },
  {
   "cell_type": "markdown",
   "id": "c8f28b1c",
   "metadata": {},
   "source": [
    "### Check correlations between target and features into train data"
   ]
  },
  {
   "cell_type": "markdown",
   "id": "bd535d7d",
   "metadata": {},
   "source": [
    "#### Date vs returned (returned/registrations)"
   ]
  },
  {
   "cell_type": "code",
   "execution_count": 131,
   "id": "69b68420",
   "metadata": {},
   "outputs": [
    {
     "data": {
      "image/png": "[encoded data removed]",
      "text/plain": [
       "<Figure size 640x480 with 1 Axes>"
      ]
     },
     "metadata": {},
     "output_type": "display_data"
    }
   ],
   "source": [
    "fig, ax = plt.subplots()\n",
    "ax.plot(df_train.date, df_train.returned);\n",
    "ax.set(title=\"Date vs. returned\",\n",
    "      ylabel=\"Number of returned by date\",\n",
    "      xlabel=\"Dates\");\n",
    "    "
   ]
  },
  {
   "cell_type": "code",
   "execution_count": 105,
   "id": "b3556daa",
   "metadata": {},
   "outputs": [
    {
     "data": {
      "text/plain": [
       "<AxesSubplot:>"
      ]
     },
     "execution_count": 105,
     "metadata": {},
     "output_type": "execute_result"
    },
    {
     "data": {
      "image/png": "[encoded data removed]",
      "text/plain": [
       "<Figure size 640x480 with 1 Axes>"
      ]
     },
     "metadata": {},
     "output_type": "display_data"
    }
   ],
   "source": [
    "df_train['returned'].plot()"
   ]
  },
  {
   "cell_type": "code",
   "execution_count": 132,
   "id": "1f88d25c",
   "metadata": {},
   "outputs": [
    {
     "data": {
      "image/png": "[encoded data removed]",
      "text/plain": [
       "<Figure size 640x480 with 1 Axes>"
      ]
     },
     "metadata": {},
     "output_type": "display_data"
    }
   ],
   "source": [
    "fig, ax = plt.subplots()\n",
    "ax.scatter(df_train.date, (df_train.returned/df_train.registrations));"
   ]
  },
  {
   "cell_type": "markdown",
   "id": "48b90f37",
   "metadata": {},
   "source": [
    "So that aren't good plots, but I've tried to parse dates and I haven't gotten better one.\n",
    "Only what I see from plots and cross tab(month vs returned) is that returned = 22 is outlier, or maybe all values greater than 15"
   ]
  },
  {
   "cell_type": "code",
   "execution_count": 142,
   "id": "ce7580f0",
   "metadata": {},
   "outputs": [
    {
     "data": {
      "image/png": "[encoded data removed]",
      "text/plain": [
       "<Figure size 640x480 with 1 Axes>"
      ]
     },
     "metadata": {},
     "output_type": "display_data"
    }
   ],
   "source": [
    "df_train.plot(x='day_of_month', y='returned',kind='scatter');"
   ]
  },
  {
   "cell_type": "code",
   "execution_count": 143,
   "id": "9badaf8a",
   "metadata": {
    "scrolled": false
   },
   "outputs": [
    {
     "data": {
      "image/png": "[encoded data removed]",
      "text/plain": [
       "<Figure size 640x480 with 1 Axes>"
      ]
     },
     "metadata": {},
     "output_type": "display_data"
    }
   ],
   "source": [
    "fig, ax = plt.subplots()\n",
    "ax.hist(df_train.registration_channel);\n",
    "ax.set(title = \"Registration channel\",\n",
    "       xlabel = \"Registration chanel (0 - no data, 1 - organic, 2 - paid)\",\n",
    "       ylabel = \"Number of players\")\n",
    "plt.xticks([0,1,2]);"
   ]
  },
  {
   "cell_type": "markdown",
   "id": "f24eb763",
   "metadata": {},
   "source": [
    "We can see that most of new users were targeted by any T11 marketing campaigns, before installing the game."
   ]
  },
  {
   "cell_type": "markdown",
   "id": "549fa306",
   "metadata": {},
   "source": [
    "#### Month vs returned (returned/registrations)"
   ]
  },
  {
   "cell_type": "code",
   "execution_count": 144,
   "id": "0d594906",
   "metadata": {},
   "outputs": [
    {
     "data": {
      "text/html": [
       "<div>\n",
       "<style scoped>\n",
       "    .dataframe tbody tr th:only-of-type {\n",
       "        vertical-align: middle;\n",
       "    }\n",
       "\n",
       "    .dataframe tbody tr th {\n",
       "        vertical-align: top;\n",
       "    }\n",
       "\n",
       "    .dataframe thead th {\n",
       "        text-align: right;\n",
       "    }\n",
       "</style>\n",
       "<table border=\"1\" class=\"dataframe\">\n",
       "  <thead>\n",
       "    <tr style=\"text-align: right;\">\n",
       "      <th>returned</th>\n",
       "      <th>0</th>\n",
       "      <th>1</th>\n",
       "      <th>2</th>\n",
       "      <th>3</th>\n",
       "      <th>4</th>\n",
       "      <th>5</th>\n",
       "      <th>6</th>\n",
       "      <th>7</th>\n",
       "      <th>8</th>\n",
       "      <th>9</th>\n",
       "      <th>10</th>\n",
       "      <th>11</th>\n",
       "      <th>12</th>\n",
       "      <th>13</th>\n",
       "      <th>14</th>\n",
       "      <th>15</th>\n",
       "      <th>16</th>\n",
       "      <th>18</th>\n",
       "      <th>22</th>\n",
       "    </tr>\n",
       "    <tr>\n",
       "      <th>month</th>\n",
       "      <th></th>\n",
       "      <th></th>\n",
       "      <th></th>\n",
       "      <th></th>\n",
       "      <th></th>\n",
       "      <th></th>\n",
       "      <th></th>\n",
       "      <th></th>\n",
       "      <th></th>\n",
       "      <th></th>\n",
       "      <th></th>\n",
       "      <th></th>\n",
       "      <th></th>\n",
       "      <th></th>\n",
       "      <th></th>\n",
       "      <th></th>\n",
       "      <th></th>\n",
       "      <th></th>\n",
       "      <th></th>\n",
       "    </tr>\n",
       "  </thead>\n",
       "  <tbody>\n",
       "    <tr>\n",
       "      <th>6</th>\n",
       "      <td>57203</td>\n",
       "      <td>30388</td>\n",
       "      <td>3721</td>\n",
       "      <td>989</td>\n",
       "      <td>329</td>\n",
       "      <td>148</td>\n",
       "      <td>92</td>\n",
       "      <td>31</td>\n",
       "      <td>21</td>\n",
       "      <td>16</td>\n",
       "      <td>9</td>\n",
       "      <td>3</td>\n",
       "      <td>4</td>\n",
       "      <td>2</td>\n",
       "      <td>2</td>\n",
       "      <td>1</td>\n",
       "      <td>1</td>\n",
       "      <td>0</td>\n",
       "      <td>0</td>\n",
       "    </tr>\n",
       "    <tr>\n",
       "      <th>7</th>\n",
       "      <td>59486</td>\n",
       "      <td>31360</td>\n",
       "      <td>3563</td>\n",
       "      <td>969</td>\n",
       "      <td>370</td>\n",
       "      <td>151</td>\n",
       "      <td>81</td>\n",
       "      <td>36</td>\n",
       "      <td>23</td>\n",
       "      <td>13</td>\n",
       "      <td>8</td>\n",
       "      <td>2</td>\n",
       "      <td>2</td>\n",
       "      <td>1</td>\n",
       "      <td>1</td>\n",
       "      <td>0</td>\n",
       "      <td>0</td>\n",
       "      <td>0</td>\n",
       "      <td>1</td>\n",
       "    </tr>\n",
       "    <tr>\n",
       "      <th>8</th>\n",
       "      <td>62505</td>\n",
       "      <td>33947</td>\n",
       "      <td>4017</td>\n",
       "      <td>1084</td>\n",
       "      <td>425</td>\n",
       "      <td>174</td>\n",
       "      <td>102</td>\n",
       "      <td>42</td>\n",
       "      <td>43</td>\n",
       "      <td>19</td>\n",
       "      <td>9</td>\n",
       "      <td>3</td>\n",
       "      <td>3</td>\n",
       "      <td>4</td>\n",
       "      <td>3</td>\n",
       "      <td>0</td>\n",
       "      <td>0</td>\n",
       "      <td>1</td>\n",
       "      <td>0</td>\n",
       "    </tr>\n",
       "  </tbody>\n",
       "</table>\n",
       "</div>"
      ],
      "text/plain": [
       "returned     0      1     2     3    4    5    6   7   8   9   10  11  12  13  \\\n",
       "month                                                                           \n",
       "6         57203  30388  3721   989  329  148   92  31  21  16   9   3   4   2   \n",
       "7         59486  31360  3563   969  370  151   81  36  23  13   8   2   2   1   \n",
       "8         62505  33947  4017  1084  425  174  102  42  43  19   9   3   3   4   \n",
       "\n",
       "returned  14  15  16  18  22  \n",
       "month                         \n",
       "6          2   1   1   0   0  \n",
       "7          1   0   0   0   1  \n",
       "8          3   0   0   1   0  "
      ]
     },
     "execution_count": 144,
     "metadata": {},
     "output_type": "execute_result"
    }
   ],
   "source": [
    "pd.crosstab(df_train.month, df_train.returned)"
   ]
  },
  {
   "cell_type": "code",
   "execution_count": 145,
   "id": "342ad0d9",
   "metadata": {},
   "outputs": [
    {
     "data": {
      "text/html": [
       "<div>\n",
       "<style scoped>\n",
       "    .dataframe tbody tr th:only-of-type {\n",
       "        vertical-align: middle;\n",
       "    }\n",
       "\n",
       "    .dataframe tbody tr th {\n",
       "        vertical-align: top;\n",
       "    }\n",
       "\n",
       "    .dataframe thead th {\n",
       "        text-align: right;\n",
       "    }\n",
       "</style>\n",
       "<table border=\"1\" class=\"dataframe\">\n",
       "  <thead>\n",
       "    <tr style=\"text-align: right;\">\n",
       "      <th>returned</th>\n",
       "      <th>0</th>\n",
       "      <th>1</th>\n",
       "      <th>2</th>\n",
       "      <th>3</th>\n",
       "      <th>4</th>\n",
       "      <th>5</th>\n",
       "      <th>6</th>\n",
       "      <th>7</th>\n",
       "      <th>8</th>\n",
       "      <th>9</th>\n",
       "      <th>10</th>\n",
       "      <th>11</th>\n",
       "      <th>12</th>\n",
       "      <th>13</th>\n",
       "      <th>14</th>\n",
       "      <th>15</th>\n",
       "      <th>16</th>\n",
       "      <th>18</th>\n",
       "      <th>22</th>\n",
       "    </tr>\n",
       "    <tr>\n",
       "      <th>registration_type</th>\n",
       "      <th></th>\n",
       "      <th></th>\n",
       "      <th></th>\n",
       "      <th></th>\n",
       "      <th></th>\n",
       "      <th></th>\n",
       "      <th></th>\n",
       "      <th></th>\n",
       "      <th></th>\n",
       "      <th></th>\n",
       "      <th></th>\n",
       "      <th></th>\n",
       "      <th></th>\n",
       "      <th></th>\n",
       "      <th></th>\n",
       "      <th></th>\n",
       "      <th></th>\n",
       "      <th></th>\n",
       "      <th></th>\n",
       "    </tr>\n",
       "  </thead>\n",
       "  <tbody>\n",
       "    <tr>\n",
       "      <th>1</th>\n",
       "      <td>119913</td>\n",
       "      <td>53196</td>\n",
       "      <td>6277</td>\n",
       "      <td>1654</td>\n",
       "      <td>611</td>\n",
       "      <td>232</td>\n",
       "      <td>145</td>\n",
       "      <td>51</td>\n",
       "      <td>38</td>\n",
       "      <td>22</td>\n",
       "      <td>12</td>\n",
       "      <td>3</td>\n",
       "      <td>3</td>\n",
       "      <td>2</td>\n",
       "      <td>0</td>\n",
       "      <td>0</td>\n",
       "      <td>0</td>\n",
       "      <td>0</td>\n",
       "      <td>0</td>\n",
       "    </tr>\n",
       "    <tr>\n",
       "      <th>2</th>\n",
       "      <td>38826</td>\n",
       "      <td>11293</td>\n",
       "      <td>796</td>\n",
       "      <td>128</td>\n",
       "      <td>23</td>\n",
       "      <td>4</td>\n",
       "      <td>1</td>\n",
       "      <td>0</td>\n",
       "      <td>0</td>\n",
       "      <td>0</td>\n",
       "      <td>0</td>\n",
       "      <td>0</td>\n",
       "      <td>0</td>\n",
       "      <td>0</td>\n",
       "      <td>0</td>\n",
       "      <td>0</td>\n",
       "      <td>0</td>\n",
       "      <td>0</td>\n",
       "      <td>0</td>\n",
       "    </tr>\n",
       "    <tr>\n",
       "      <th>3</th>\n",
       "      <td>20455</td>\n",
       "      <td>31206</td>\n",
       "      <td>4228</td>\n",
       "      <td>1260</td>\n",
       "      <td>490</td>\n",
       "      <td>237</td>\n",
       "      <td>129</td>\n",
       "      <td>58</td>\n",
       "      <td>49</td>\n",
       "      <td>26</td>\n",
       "      <td>14</td>\n",
       "      <td>5</td>\n",
       "      <td>6</td>\n",
       "      <td>5</td>\n",
       "      <td>6</td>\n",
       "      <td>1</td>\n",
       "      <td>1</td>\n",
       "      <td>1</td>\n",
       "      <td>1</td>\n",
       "    </tr>\n",
       "  </tbody>\n",
       "</table>\n",
       "</div>"
      ],
      "text/plain": [
       "returned               0      1     2     3    4    5    6   7   8   9   10  \\\n",
       "registration_type                                                             \n",
       "1                  119913  53196  6277  1654  611  232  145  51  38  22  12   \n",
       "2                   38826  11293   796   128   23    4    1   0   0   0   0   \n",
       "3                   20455  31206  4228  1260  490  237  129  58  49  26  14   \n",
       "\n",
       "returned           11  12  13  14  15  16  18  22  \n",
       "registration_type                                  \n",
       "1                   3   3   2   0   0   0   0   0  \n",
       "2                   0   0   0   0   0   0   0   0  \n",
       "3                   5   6   5   6   1   1   1   1  "
      ]
     },
     "execution_count": 145,
     "metadata": {},
     "output_type": "execute_result"
    }
   ],
   "source": [
    "pd.crosstab(df_train.registration_type, df_train.returned)"
   ]
  },
  {
   "cell_type": "markdown",
   "id": "22137733",
   "metadata": {},
   "source": [
    "#### Retention Day 1 "
   ]
  },
  {
   "cell_type": "code",
   "execution_count": 84,
   "id": "55bf01b2",
   "metadata": {},
   "outputs": [
    {
     "data": {
      "image/png": "[encoded data removed]",
      "text/plain": [
       "<Figure size 640x480 with 1 Axes>"
      ]
     },
     "metadata": {},
     "output_type": "display_data"
    }
   ],
   "source": [
    "fig, ax = plt.subplots()\n",
    "ax.hist((df_train.returned/df_train.registrations));\n",
    "ax.set(title=\"Retention day1\",\n",
    "      xlabel=\"returned/regustrations\",\n",
    "      ylabel=\"number of users\");"
   ]
  },
  {
   "cell_type": "code",
   "execution_count": 199,
   "id": "f200aeb6",
   "metadata": {},
   "outputs": [
    {
     "data": {
      "text/plain": [
       "[Text(0.5, 0, 'Device manufacturer')]"
      ]
     },
     "execution_count": 199,
     "metadata": {},
     "output_type": "execute_result"
    },
    {
     "data": {
      "image/png": "[encoded data removed]",
      "text/plain": [
       "<Figure size 1500x700 with 4 Axes>"
      ]
     },
     "metadata": {},
     "output_type": "display_data"
    }
   ],
   "source": [
    "fig,((ax1, ax2),(ax3, ax4))=plt.subplots(nrows=2,\n",
    "                                         ncols=2,\n",
    "                                        figsize=(15,7))\n",
    "fig. suptitle(\"Histograms of all data\", fontsize=15)\n",
    "ax1.hist(df_train.registration_type)\n",
    "ax1.set(xlabel=\"registration_type(1 = Fresh Registration, 2 = Inactive ReRegistration, 3 = Active ReRegistration)\",\n",
    "       ylabel=\"number of users\")\n",
    "ax1.set_xticks([1,2,3])\n",
    "ax2.hist(df_train.network_type)\n",
    "ax2.set_xticks([0,1,2,3])\n",
    "ax2.set(xlabel=\"Nerwork type(0 = data not provided, 1 = WIFI, 2 = LTE (4G), 3 = HSPAP (3G))\")\n",
    "ax3.hist(df_train.device_type)\n",
    "ax3.set_xticks([1,2])\n",
    "ax3.set(xlabel='Device type (1 - phone, 2 - tablet)',\n",
    "       ylabel=\"number of users\")\n",
    "ax4.hist(df_train.device_manufacturer)\n",
    "ax4.set_xticks(range(0,14));\n",
    "ax4.set(xlabel=\"Device manufacturer\")"
   ]
  },
  {
   "cell_type": "code",
   "execution_count": 197,
   "id": "b16ece22",
   "metadata": {},
   "outputs": [
    {
     "data": {
      "text/plain": [
       "(579, 17)"
      ]
     },
     "execution_count": 197,
     "metadata": {},
     "output_type": "execute_result"
    }
   ],
   "source": [
    "df_train_returned_over_5 = df_train[df_train.returned>5]\n",
    "df_train_returned_over_5.shape"
   ]
  },
  {
   "cell_type": "code",
   "execution_count": 203,
   "id": "c5b8d71f",
   "metadata": {},
   "outputs": [
    {
     "data": {
      "image/png": "[encoded data removed]",
      "text/plain": [
       "<Figure size 1500x700 with 4 Axes>"
      ]
     },
     "metadata": {},
     "output_type": "display_data"
    }
   ],
   "source": [
    "fig,((ax1, ax2),(ax3, ax4))=plt.subplots(nrows=2,\n",
    "                                         ncols=2,\n",
    "                                        figsize=(15,7))\n",
    "fig. suptitle(\"Histograms of data where target value is greater than 5\", fontsize=15)\n",
    "ax1.hist(df_train_returned_over_5.registration_type)\n",
    "ax1.set(xlabel=\"registration_type(1 = Fresh Registration, 2 = Inactive ReRegistration, 3 = Active ReRegistration)\",\n",
    "       ylabel=\"number of users\")\n",
    "ax1.set_xticks([1,2,3])\n",
    "ax2.hist(df_train_returned_over_5.network_type)\n",
    "ax2.set_xticks([0,1,2,3])\n",
    "ax2.set(xlabel=\"Nerwork type(0 = data not provided, 1 = WIFI, 2 = LTE (4G), 3 = HSPAP (3G))\")\n",
    "ax3.hist(df_train_returned_over_5.device_type)\n",
    "ax3.set_xticks([1,2])\n",
    "ax3.set(xlabel='Device type (1 - phone, 2 - tablet)',\n",
    "       ylabel=\"number of users\")\n",
    "ax4.hist(df_train_returned_over_5.device_manufacturer)\n",
    "ax4.set_xticks(range(0,14));\n",
    "ax4.set(xlabel=\"Device manufacturer\");"
   ]
  },
  {
   "cell_type": "code",
   "execution_count": 136,
   "id": "b1bbddf1",
   "metadata": {},
   "outputs": [
    {
     "data": {
      "text/plain": [
       "<AxesSubplot:xlabel='registrations', ylabel='returned'>"
      ]
     },
     "execution_count": 136,
     "metadata": {},
     "output_type": "execute_result"
    },
    {
     "data": {
      "image/png": "[encoded data removed]",
      "text/plain": [
       "<Figure size 640x480 with 1 Axes>"
      ]
     },
     "metadata": {},
     "output_type": "display_data"
    }
   ],
   "source": [
    "df_train.plot(x = 'registrations', y = 'returned', kind = 'scatter')"
   ]
  },
  {
   "cell_type": "markdown",
   "id": "54d73105",
   "metadata": {},
   "source": [
    " We can see correlation between registrations and returned but there are a lot of exceptions.\n",
    "#### Every time when I tried to plot kind='bar' my kernel chashed... Maybe because of the amount of data?\n",
    "So from plots(our data) we can conclude :\n",
    "\n",
    "                                         Most of our users are fresh registrations\n",
    "                                         Most of them use Wifi and phone\n",
    "                                         Most of them are samsung users\n",
    "and our plot data where target values are greater than 5 shows:\n",
    "                                         \n",
    "                                         Most of our returned users are Active Reregistrations,\n",
    "                                         use WIFI on the phone and they are Xiaomi users\n"
   ]
  },
  {
   "cell_type": "markdown",
   "id": "50e0d7a1",
   "metadata": {},
   "source": [
    "### Turning data into numbers"
   ]
  },
  {
   "cell_type": "code",
   "execution_count": 209,
   "id": "ab7fe7b8",
   "metadata": {},
   "outputs": [
    {
     "data": {
      "text/plain": [
       "date                      object\n",
       "registration_type          int64\n",
       "played_t11_before          int64\n",
       "registration_channel       int64\n",
       "network_type               int64\n",
       "device_tier                int64\n",
       "device_type                int64\n",
       "device_manufacturer        int64\n",
       "screen_dpi               float64\n",
       "device_memory_size_mb    float64\n",
       "device_model              object\n",
       "os_version                object\n",
       "registrations              int64\n",
       "returned                   int64\n",
       "month                      int64\n",
       "day_of_week                int64\n",
       "day_of_month               int64\n",
       "dtype: object"
      ]
     },
     "execution_count": 209,
     "metadata": {},
     "output_type": "execute_result"
    }
   ],
   "source": [
    "df_train.dtypes"
   ]
  },
  {
   "cell_type": "code",
   "execution_count": 216,
   "id": "63dba57f",
   "metadata": {},
   "outputs": [
    {
     "name": "stdout",
     "output_type": "stream",
     "text": [
      "date\n",
      "device_model\n",
      "os_version\n"
     ]
    }
   ],
   "source": [
    "# date O, device_model O, os_version O\n",
    "# So firstly turn string into categories\n",
    "for label, content in df_train.items():\n",
    "    if pd.api.types.is_string_dtype(content):\n",
    "        print(label)"
   ]
  },
  {
   "cell_type": "code",
   "execution_count": 220,
   "id": "479c529c",
   "metadata": {},
   "outputs": [
    {
     "name": "stderr",
     "output_type": "stream",
     "text": [
      "C:\\Users\\USER\\AppData\\Local\\Temp\\ipykernel_4908\\3819135548.py:3: SettingWithCopyWarning: \n",
      "A value is trying to be set on a copy of a slice from a DataFrame.\n",
      "Try using .loc[row_indexer,col_indexer] = value instead\n",
      "\n",
      "See the caveats in the documentation: https://pandas.pydata.org/pandas-docs/stable/user_guide/indexing.html#returning-a-view-versus-a-copy\n",
      "  df_train[label] = content.astype(\"category\").cat.as_ordered()\n",
      "C:\\Users\\USER\\AppData\\Local\\Temp\\ipykernel_4908\\3819135548.py:3: SettingWithCopyWarning: \n",
      "A value is trying to be set on a copy of a slice from a DataFrame.\n",
      "Try using .loc[row_indexer,col_indexer] = value instead\n",
      "\n",
      "See the caveats in the documentation: https://pandas.pydata.org/pandas-docs/stable/user_guide/indexing.html#returning-a-view-versus-a-copy\n",
      "  df_train[label] = content.astype(\"category\").cat.as_ordered()\n",
      "C:\\Users\\USER\\AppData\\Local\\Temp\\ipykernel_4908\\3819135548.py:3: SettingWithCopyWarning: \n",
      "A value is trying to be set on a copy of a slice from a DataFrame.\n",
      "Try using .loc[row_indexer,col_indexer] = value instead\n",
      "\n",
      "See the caveats in the documentation: https://pandas.pydata.org/pandas-docs/stable/user_guide/indexing.html#returning-a-view-versus-a-copy\n",
      "  df_train[label] = content.astype(\"category\").cat.as_ordered()\n"
     ]
    }
   ],
   "source": [
    "for label, content in df_train.items():\n",
    "    if pd.api.types.is_string_dtype(content):\n",
    "        df_train[label] = content.astype(\"category\").cat.as_ordered()"
   ]
  },
  {
   "cell_type": "code",
   "execution_count": 225,
   "id": "3ca6dabc",
   "metadata": {},
   "outputs": [
    {
     "data": {
      "text/plain": [
       "0          1\n",
       "1          7\n",
       "2          7\n",
       "3         56\n",
       "4          1\n",
       "          ..\n",
       "293046     1\n",
       "293047     9\n",
       "293048     1\n",
       "293049     1\n",
       "293050     1\n",
       "Length: 291408, dtype: int8"
      ]
     },
     "execution_count": 225,
     "metadata": {},
     "output_type": "execute_result"
    }
   ],
   "source": [
    "df_train.os_version.cat.codes"
   ]
  },
  {
   "cell_type": "code",
   "execution_count": 226,
   "id": "7dd01703",
   "metadata": {},
   "outputs": [],
   "source": [
    "df_train.to_csv('train_data')"
   ]
  },
  {
   "cell_type": "code",
   "execution_count": 228,
   "id": "7cf0a114",
   "metadata": {},
   "outputs": [
    {
     "name": "stdout",
     "output_type": "stream",
     "text": [
      "<class 'pandas.core.frame.DataFrame'>\n",
      "Int64Index: 49034 entries, 293051 to 342331\n",
      "Data columns (total 17 columns):\n",
      " #   Column                 Non-Null Count  Dtype  \n",
      "---  ------                 --------------  -----  \n",
      " 0   date                   49034 non-null  object \n",
      " 1   registration_type      49034 non-null  int64  \n",
      " 2   played_t11_before      49034 non-null  int64  \n",
      " 3   registration_channel   49034 non-null  int64  \n",
      " 4   network_type           49034 non-null  int64  \n",
      " 5   device_tier            49034 non-null  int64  \n",
      " 6   device_type            49034 non-null  int64  \n",
      " 7   device_manufacturer    49034 non-null  int64  \n",
      " 8   screen_dpi             49034 non-null  float64\n",
      " 9   device_memory_size_mb  49034 non-null  float64\n",
      " 10  device_model           49034 non-null  object \n",
      " 11  os_version             49034 non-null  object \n",
      " 12  registrations          49034 non-null  int64  \n",
      " 13  returned               49034 non-null  int64  \n",
      " 14  month                  49034 non-null  int64  \n",
      " 15  day_of_week            49034 non-null  int64  \n",
      " 16  day_of_month           49034 non-null  int64  \n",
      "dtypes: float64(2), int64(12), object(3)\n",
      "memory usage: 6.7+ MB\n"
     ]
    }
   ],
   "source": [
    "df_test.info()"
   ]
  },
  {
   "cell_type": "code",
   "execution_count": 229,
   "id": "ecccdfdc",
   "metadata": {},
   "outputs": [
    {
     "name": "stderr",
     "output_type": "stream",
     "text": [
      "C:\\Users\\USER\\AppData\\Local\\Temp\\ipykernel_4908\\3145692808.py:3: SettingWithCopyWarning: \n",
      "A value is trying to be set on a copy of a slice from a DataFrame.\n",
      "Try using .loc[row_indexer,col_indexer] = value instead\n",
      "\n",
      "See the caveats in the documentation: https://pandas.pydata.org/pandas-docs/stable/user_guide/indexing.html#returning-a-view-versus-a-copy\n",
      "  df_test[label] = content.astype(\"category\").cat.as_ordered()\n",
      "C:\\Users\\USER\\AppData\\Local\\Temp\\ipykernel_4908\\3145692808.py:3: SettingWithCopyWarning: \n",
      "A value is trying to be set on a copy of a slice from a DataFrame.\n",
      "Try using .loc[row_indexer,col_indexer] = value instead\n",
      "\n",
      "See the caveats in the documentation: https://pandas.pydata.org/pandas-docs/stable/user_guide/indexing.html#returning-a-view-versus-a-copy\n",
      "  df_test[label] = content.astype(\"category\").cat.as_ordered()\n",
      "C:\\Users\\USER\\AppData\\Local\\Temp\\ipykernel_4908\\3145692808.py:3: SettingWithCopyWarning: \n",
      "A value is trying to be set on a copy of a slice from a DataFrame.\n",
      "Try using .loc[row_indexer,col_indexer] = value instead\n",
      "\n",
      "See the caveats in the documentation: https://pandas.pydata.org/pandas-docs/stable/user_guide/indexing.html#returning-a-view-versus-a-copy\n",
      "  df_test[label] = content.astype(\"category\").cat.as_ordered()\n"
     ]
    }
   ],
   "source": [
    "for label, content in df_test.items():\n",
    "    if pd.api.types.is_string_dtype(content):\n",
    "        df_test[label] = content.astype(\"category\").cat.as_ordered()"
   ]
  },
  {
   "cell_type": "code",
   "execution_count": 230,
   "id": "905c4ca3",
   "metadata": {},
   "outputs": [
    {
     "name": "stdout",
     "output_type": "stream",
     "text": [
      "<class 'pandas.core.frame.DataFrame'>\n",
      "Int64Index: 49034 entries, 293051 to 342331\n",
      "Data columns (total 17 columns):\n",
      " #   Column                 Non-Null Count  Dtype   \n",
      "---  ------                 --------------  -----   \n",
      " 0   date                   49034 non-null  category\n",
      " 1   registration_type      49034 non-null  int64   \n",
      " 2   played_t11_before      49034 non-null  int64   \n",
      " 3   registration_channel   49034 non-null  int64   \n",
      " 4   network_type           49034 non-null  int64   \n",
      " 5   device_tier            49034 non-null  int64   \n",
      " 6   device_type            49034 non-null  int64   \n",
      " 7   device_manufacturer    49034 non-null  int64   \n",
      " 8   screen_dpi             49034 non-null  float64 \n",
      " 9   device_memory_size_mb  49034 non-null  float64 \n",
      " 10  device_model           49034 non-null  category\n",
      " 11  os_version             49034 non-null  category\n",
      " 12  registrations          49034 non-null  int64   \n",
      " 13  returned               49034 non-null  int64   \n",
      " 14  month                  49034 non-null  int64   \n",
      " 15  day_of_week            49034 non-null  int64   \n",
      " 16  day_of_month           49034 non-null  int64   \n",
      "dtypes: category(3), float64(2), int64(12)\n",
      "memory usage: 5.9 MB\n"
     ]
    }
   ],
   "source": [
    "df_test.info()"
   ]
  },
  {
   "cell_type": "code",
   "execution_count": 231,
   "id": "a0293321",
   "metadata": {},
   "outputs": [],
   "source": [
    "df_test.to_csv(\"test_data\")"
   ]
  },
  {
   "cell_type": "code",
   "execution_count": null,
   "id": "099f23a5",
   "metadata": {},
   "outputs": [],
   "source": []
  }
 ],
 "metadata": {
  "kernelspec": {
   "display_name": "Python 3 (ipykernel)",
   "language": "python",
   "name": "python3"
  },
  "language_info": {
   "codemirror_mode": {
    "name": "ipython",
    "version": 3
   },
   "file_extension": ".py",
   "mimetype": "text/x-python",
   "name": "python",
   "nbconvert_exporter": "python",
   "pygments_lexer": "ipython3",
   "version": "3.10.4"
  }
 },
 "nbformat": 4,
 "nbformat_minor": 5
}
